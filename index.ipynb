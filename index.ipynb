{
 "cells": [
  {
   "cell_type": "markdown",
   "metadata": {},
   "source": [
    "# Format DNA sequence\n",
    "1. Paste in your DNA\n",
    "1. Run the first cell (command-Enter)\n",
    "1. All other cells can run independently after running the first cell"
   ]
  },
  {
   "cell_type": "code",
   "execution_count": 1,
   "metadata": {
    "collapsed": false
   },
   "outputs": [
    {
     "name": "stdout",
     "output_type": "stream",
     "text": [
      "ATGAATAATAATATGTCATTAAAGAAAAAGAGCATTCTCGCGTTAGCTTGCTATGTTTGTTTTTTAATTACGGTTATTGGCAGTATTACTTATTGTGTTGTTGAACCTCCTATTCGTGAAAATCTTGAAAACAATCTTAATTTACGCACTCAACTTTTAGCTAGGGAAATAGAGGATCCGCTTAATCATTCTCTTTCCATATTGCATGCACTTGTTGGGGTCGCTGCAAGCGGTTACTCTATCGATGTTCTTGAAGATATGACTTATTCTGTTTTCAAAGAGAGCGACGATATTATTATTAGTGGTGGCATTTGGCCAGAACCCAATACATTGGAGCCATCCAAACAATTAGCTAGCATTTTTTATTCTCGTGATGAACGAGGAAAAATCACCTCTGTTAACGATTACAATATTCCTAGCAATACACCTTATCAACAAGAGTCATGGTATACATCGGTTTCACATGAAAACAGTAGCCAT\n"
     ]
    }
   ],
   "source": [
    "# Paste dna sequence in between the triple parentheses and ensure there are no parentheses in your sequence\n",
    "dna = '''\n",
    "\n",
    "        1 atgaataata atatgtcatt aaagaaaaag agcattctcg cgttagcttg ctatgtttgt\n",
    "       61 tttttaatta cggttattgg cagtattact tattgtgttg ttgaacctcc tattcgtgaa\n",
    "      121 aatcttgaaa acaatcttaa tttacgcact caacttttag ctagggaaat agaggatccg\n",
    "      181 cttaatcatt ctctttccat attgcatgca cttgttgggg tcgctgcaag cggttactct\n",
    "      241 atcgatgttc ttgaagatat gacttattct gttttcaaag agagcgacga tattattatt\n",
    "      301 agtggtggca tttggccaga acccaataca ttggagccat ccaaacaatt agctagcatt\n",
    "      361 ttttattctc gtgatgaacg aggaaaaatc acctctgtta acgattacaa tattcctagc\n",
    "      421 aatacacctt atcaacaaga gtcatggtat acatcggttt cacatgaaaa cagtagccat\n",
    "\n",
    "\n",
    "      '''\n",
    "\n",
    "\n",
    "### PARAMETERS (OPTIONAL) ###\n",
    "\n",
    "# Name of molecule\n",
    "# replace dna_molecule with your molecule's name\n",
    "# best to avoid spaces and special characters; ok to use underscore\n",
    "dna_name = 'dna_molecule'\n",
    "\n",
    "# If you have RNA instead of DNA change this to True\n",
    "is_rna = False\n",
    "\n",
    "# Leave this function alone.\n",
    "# It removes spaces and non-DNA characters from your DNA sequence.\n",
    "\n",
    "dna_bases = 'GATCRYSWKMBVDHN'\n",
    "rna_bases = 'GAUCRYSWKMBVDHN'\n",
    "\n",
    "def clean(sequence, nucleic_acid='dna'):\n",
    "    '''Clean up the input DNA sequence\n",
    "    \n",
    "       Remove the numbers and any non-DNA bases (including uracil!)\n",
    "       If nucleic acid is set to 'rna' then uracil is permitted and not thymine\n",
    "       Returns the sequence in uppercase\n",
    "    '''\n",
    "    acceptable_bases = eval(nucleic_acid + '_bases')\n",
    "    sequence_clean = ''.join(n.upper() for n in sequence if n.upper() in acceptable_bases)\n",
    "    \n",
    "    # Do this in a class instead!\n",
    "    # sequence lengths = [len(sequence), len(sequence_clean)]\n",
    "    # report on the results\n",
    "    \n",
    "    return sequence_clean\n",
    "\n",
    "# Wish list:\n",
    "# output fasta format 60/line\n",
    "\n",
    "# Here is the cleaned version of the DNA you submitted\n",
    "# (or any errors found during the cleaning process)\n",
    "\n",
    "print(clean(dna))"
   ]
  },
  {
   "cell_type": "code",
   "execution_count": 2,
   "metadata": {
    "collapsed": false
   },
   "outputs": [
    {
     "name": "stdout",
     "output_type": "stream",
     "text": [
      "atgaataataatatgtcattaaagaaaaagagcattctcgcgttagcttgctatgtttgttttttaattacggttattggcagtattacttattgtgttgttgaacctcctattcgtgaaaatcttgaaaacaatcttaatttacgcactcaacttttagctagggaaatagaggatccgcttaatcattctctttccatattgcatgcacttgttggggtcgctgcaagcggttactctatcgatgttcttgaagatatgacttattctgttttcaaagagagcgacgatattattattagtggtggcatttggccagaacccaatacattggagccatccaaacaattagctagcattttttattctcgtgatgaacgaggaaaaatcacctctgttaacgattacaatattcctagcaatacaccttatcaacaagagtcatggtatacatcggtttcacatgaaaacagtagccat\n"
     ]
    }
   ],
   "source": [
    "# Lowercase\n",
    "\n",
    "print(clean(dna).lower())"
   ]
  },
  {
   "cell_type": "code",
   "execution_count": 3,
   "metadata": {
    "collapsed": false
   },
   "outputs": [
    {
     "name": "stdout",
     "output_type": "stream",
     "text": [
      ">dna_molecule\n",
      "ATGAATAATAATATGTCATTAAAGAAAAAGAGCATTCTCGCGTTAGCTTGCTATGTTTGT\n",
      "TTTTTAATTACGGTTATTGGCAGTATTACTTATTGTGTTGTTGAACCTCCTATTCGTGAA\n",
      "AATCTTGAAAACAATCTTAATTTACGCACTCAACTTTTAGCTAGGGAAATAGAGGATCCG\n",
      "CTTAATCATTCTCTTTCCATATTGCATGCACTTGTTGGGGTCGCTGCAAGCGGTTACTCT\n",
      "ATCGATGTTCTTGAAGATATGACTTATTCTGTTTTCAAAGAGAGCGACGATATTATTATT\n",
      "AGTGGTGGCATTTGGCCAGAACCCAATACATTGGAGCCATCCAAACAATTAGCTAGCATT\n",
      "TTTTATTCTCGTGATGAACGAGGAAAAATCACCTCTGTTAACGATTACAATATTCCTAGC\n",
      "AATACACCTTATCAACAAGAGTCATGGTATACATCGGTTTCACATGAAAACAGTAGCCAT\n"
     ]
    }
   ],
   "source": [
    "# Fasta format with 60 characters to a line\n",
    "def fasta_format(sequence):\n",
    "    output = '>' + dna_name + '\\n'\n",
    "    output += '\\n'.join(sequence[n:n+60] for n in range(0,len(sequence),60))\n",
    "    return output\n",
    "\n",
    "print(fasta_format(clean(dna)))"
   ]
  },
  {
   "cell_type": "code",
   "execution_count": 4,
   "metadata": {
    "collapsed": false
   },
   "outputs": [
    {
     "name": "stdout",
     "output_type": "stream",
     "text": [
      "ATGGCTACTGTTTTCATGTGAAACCGATGTATACCATGACTCTTGTTGATAAGGTGTATTGCTAGGAATATTGTAATCGTTAACAGAGGTGATTTTTCCTCGTTCATCACGAGAATAAAAAATGCTAGCTAATTGTTTGGATGGCTCCAATGTATTGGGTTCTGGCCAAATGCCACCACTAATAATAATATCGTCGCTCTCTTTGAAAACAGAATAAGTCATATCTTCAAGAACATCGATAGAGTAACCGCTTGCAGCGACCCCAACAAGTGCATGCAATATGGAAAGAGAATGATTAAGCGGATCCTCTATTTCCCTAGCTAAAAGTTGAGTGCGTAAATTAAGATTGTTTTCAAGATTTTCACGAATAGGAGGTTCAACAACACAATAAGTAATACTGCCAATAACCGTAATTAAAAAACAAACATAGCAAGCTAACGCGAGAATGCTCTTTTTCTTTAATGACATATTATTATTCAT\n"
     ]
    }
   ],
   "source": [
    "# Reverse complement (DNA only right now)\n",
    "def reverse_complement(sequence):\n",
    "    '''Return the DNA Reverse Complement'''\n",
    "    complement = ''.maketrans('GATCRYSWKMBVDHN', 'CTAGYRSWMKVBHDN')\n",
    "    return sequence.translate(complement)[::-1]\n",
    "\n",
    "print(reverse_complement(clean(dna)))"
   ]
  },
  {
   "cell_type": "code",
   "execution_count": null,
   "metadata": {
    "collapsed": true
   },
   "outputs": [],
   "source": []
  }
 ],
 "metadata": {
  "kernelspec": {
   "display_name": "Python 3",
   "language": "python",
   "name": "python3"
  },
  "language_info": {
   "codemirror_mode": {
    "name": "ipython",
    "version": 3
   },
   "file_extension": ".py",
   "mimetype": "text/x-python",
   "name": "python",
   "nbconvert_exporter": "python",
   "pygments_lexer": "ipython3",
   "version": "3.5.1"
  }
 },
 "nbformat": 4,
 "nbformat_minor": 0
}
